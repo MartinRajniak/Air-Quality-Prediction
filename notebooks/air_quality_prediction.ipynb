{
 "cells": [
  {
   "cell_type": "markdown",
   "id": "b84f8ec7",
   "metadata": {},
   "source": [
    "# Air Quality Prediction\n",
    "\n",
    "[World's Air Pollution: Real-Time Air Quality Index](https://waqi.info/)\n",
    "\n",
    "https://aqicn.org/json-api/doc/"
   ]
  }
 ],
 "metadata": {
  "language_info": {
   "name": "python"
  }
 },
 "nbformat": 4,
 "nbformat_minor": 5
}
